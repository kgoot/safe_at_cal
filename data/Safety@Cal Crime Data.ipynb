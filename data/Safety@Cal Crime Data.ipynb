{
 "cells": [
  {
   "cell_type": "code",
   "execution_count": 2,
   "metadata": {
    "collapsed": true
   },
   "outputs": [],
   "source": [
    "# Run this cell to set up your notebook\n",
    "import csv\n",
    "import numpy as np\n",
    "import pandas as pd\n",
    "import matplotlib.pyplot as plt\n",
    "%matplotlib inline\n",
    "\n",
    "import seaborn as sns\n",
    "sns.set()\n",
    "sns.set_context(\"talk\")\n",
    "import re\n",
    "\n",
    "from IPython.display import display, Latex, Markdown\n",
    "from client.api.notebook import Notebook\n"
   ]
  },
  {
   "cell_type": "code",
   "execution_count": 3,
   "metadata": {
    "collapsed": true
   },
   "outputs": [],
   "source": [
    "last180days_BPD = pd.read_csv('last180_Berkeley_PD_-_Calls_for_Service (1).csv')"
   ]
  },
  {
   "cell_type": "code",
   "execution_count": 59,
   "metadata": {},
   "outputs": [
    {
     "name": "stderr",
     "output_type": "stream",
     "text": [
      "C:\\Users\\lmgee_000\\Anaconda3\\lib\\site-packages\\ipykernel_launcher.py:5: FutureWarning: currently extract(expand=None) means expand=False (return Index/Series/DataFrame) but in a future version of pandas this will be changed to expand=True (return DataFrame)\n",
      "  \"\"\"\n"
     ]
    },
    {
     "data": {
      "text/html": [
       "<div>\n",
       "<style>\n",
       "    .dataframe thead tr:only-child th {\n",
       "        text-align: right;\n",
       "    }\n",
       "\n",
       "    .dataframe thead th {\n",
       "        text-align: left;\n",
       "    }\n",
       "\n",
       "    .dataframe tbody tr th {\n",
       "        vertical-align: top;\n",
       "    }\n",
       "</style>\n",
       "<table border=\"1\" class=\"dataframe\">\n",
       "  <thead>\n",
       "    <tr style=\"text-align: right;\">\n",
       "      <th></th>\n",
       "      <th>CASENO</th>\n",
       "      <th>OFFENSE</th>\n",
       "      <th>EVENTDT</th>\n",
       "      <th>EVENTTM</th>\n",
       "      <th>CVLEGEND</th>\n",
       "      <th>CVDOW</th>\n",
       "      <th>InDbDate</th>\n",
       "      <th>Block_Location</th>\n",
       "      <th>BLKADDR</th>\n",
       "      <th>City</th>\n",
       "      <th>State</th>\n",
       "      <th>lat_long</th>\n",
       "    </tr>\n",
       "  </thead>\n",
       "  <tbody>\n",
       "    <tr>\n",
       "      <th>0</th>\n",
       "      <td>17022572</td>\n",
       "      <td>VEHICLE STOLEN</td>\n",
       "      <td>04/22/2017 12:00:00 AM</td>\n",
       "      <td>21:00</td>\n",
       "      <td>MOTOR VEHICLE THEFT</td>\n",
       "      <td>6</td>\n",
       "      <td>10/02/2017 03:30:12 AM</td>\n",
       "      <td>Berkeley, CA\\n(37.869058, -122.270455)</td>\n",
       "      <td>NaN</td>\n",
       "      <td>Berkeley</td>\n",
       "      <td>CA</td>\n",
       "      <td>37.869058, -122.270455</td>\n",
       "    </tr>\n",
       "    <tr>\n",
       "      <th>1</th>\n",
       "      <td>17090749</td>\n",
       "      <td>BURGLARY AUTO</td>\n",
       "      <td>04/14/2017 12:00:00 AM</td>\n",
       "      <td>21:30</td>\n",
       "      <td>BURGLARY - VEHICLE</td>\n",
       "      <td>5</td>\n",
       "      <td>10/02/2017 03:30:12 AM</td>\n",
       "      <td>2000 ALLSTON WAY\\nBerkeley, CA\\n(37.869096, -1...</td>\n",
       "      <td>2000 ALLSTON WAY</td>\n",
       "      <td>Berkeley</td>\n",
       "      <td>CA</td>\n",
       "      <td>37.869096, -122.270137</td>\n",
       "    </tr>\n",
       "    <tr>\n",
       "      <th>2</th>\n",
       "      <td>17036543</td>\n",
       "      <td>BURGLARY AUTO</td>\n",
       "      <td>06/24/2017 12:00:00 AM</td>\n",
       "      <td>17:30</td>\n",
       "      <td>BURGLARY - VEHICLE</td>\n",
       "      <td>6</td>\n",
       "      <td>10/02/2017 03:30:13 AM</td>\n",
       "      <td>200 UNIVERSITY AVE\\nBerkeley, CA\\n(37.865491, ...</td>\n",
       "      <td>200 UNIVERSITY AVE</td>\n",
       "      <td>Berkeley</td>\n",
       "      <td>CA</td>\n",
       "      <td>37.865491, -122.310065</td>\n",
       "    </tr>\n",
       "    <tr>\n",
       "      <th>3</th>\n",
       "      <td>17042696</td>\n",
       "      <td>ASSAULT/BATTERY MISD.</td>\n",
       "      <td>07/20/2017 12:00:00 AM</td>\n",
       "      <td>19:50</td>\n",
       "      <td>ASSAULT</td>\n",
       "      <td>4</td>\n",
       "      <td>10/02/2017 03:30:14 AM</td>\n",
       "      <td>2000 DWIGHT WAY\\nBerkeley, CA\\n(37.863679, -12...</td>\n",
       "      <td>2000 DWIGHT WAY</td>\n",
       "      <td>Berkeley</td>\n",
       "      <td>CA</td>\n",
       "      <td>37.863679, -122.26963</td>\n",
       "    </tr>\n",
       "    <tr>\n",
       "      <th>4</th>\n",
       "      <td>17034894</td>\n",
       "      <td>FRAUD/FORGERY</td>\n",
       "      <td>06/13/2017 12:00:00 AM</td>\n",
       "      <td>13:00</td>\n",
       "      <td>FRAUD</td>\n",
       "      <td>2</td>\n",
       "      <td>10/02/2017 03:30:13 AM</td>\n",
       "      <td>2000 CEDAR ST\\nBerkeley, CA\\n(37.878124, -122....</td>\n",
       "      <td>2000 CEDAR ST</td>\n",
       "      <td>Berkeley</td>\n",
       "      <td>CA</td>\n",
       "      <td>37.878124, -122.27141</td>\n",
       "    </tr>\n",
       "  </tbody>\n",
       "</table>\n",
       "</div>"
      ],
      "text/plain": [
       "     CASENO                OFFENSE                 EVENTDT EVENTTM  \\\n",
       "0  17022572         VEHICLE STOLEN  04/22/2017 12:00:00 AM   21:00   \n",
       "1  17090749          BURGLARY AUTO  04/14/2017 12:00:00 AM   21:30   \n",
       "2  17036543          BURGLARY AUTO  06/24/2017 12:00:00 AM   17:30   \n",
       "3  17042696  ASSAULT/BATTERY MISD.  07/20/2017 12:00:00 AM   19:50   \n",
       "4  17034894          FRAUD/FORGERY  06/13/2017 12:00:00 AM   13:00   \n",
       "\n",
       "              CVLEGEND  CVDOW                InDbDate  \\\n",
       "0  MOTOR VEHICLE THEFT      6  10/02/2017 03:30:12 AM   \n",
       "1   BURGLARY - VEHICLE      5  10/02/2017 03:30:12 AM   \n",
       "2   BURGLARY - VEHICLE      6  10/02/2017 03:30:13 AM   \n",
       "3              ASSAULT      4  10/02/2017 03:30:14 AM   \n",
       "4                FRAUD      2  10/02/2017 03:30:13 AM   \n",
       "\n",
       "                                      Block_Location             BLKADDR  \\\n",
       "0             Berkeley, CA\\n(37.869058, -122.270455)                 NaN   \n",
       "1  2000 ALLSTON WAY\\nBerkeley, CA\\n(37.869096, -1...    2000 ALLSTON WAY   \n",
       "2  200 UNIVERSITY AVE\\nBerkeley, CA\\n(37.865491, ...  200 UNIVERSITY AVE   \n",
       "3  2000 DWIGHT WAY\\nBerkeley, CA\\n(37.863679, -12...     2000 DWIGHT WAY   \n",
       "4  2000 CEDAR ST\\nBerkeley, CA\\n(37.878124, -122....       2000 CEDAR ST   \n",
       "\n",
       "       City State                lat_long  \n",
       "0  Berkeley    CA  37.869058, -122.270455  \n",
       "1  Berkeley    CA  37.869096, -122.270137  \n",
       "2  Berkeley    CA  37.865491, -122.310065  \n",
       "3  Berkeley    CA   37.863679, -122.26963  \n",
       "4  Berkeley    CA   37.878124, -122.27141  "
      ]
     },
     "execution_count": 59,
     "metadata": {},
     "output_type": "execute_result"
    }
   ],
   "source": [
    "last180days_BPD.head()\n",
    "#location_re = r'\\(.*?\\)'\n",
    "#last180days_BPD['lat_long'] = last180days_BPD.apply(lambda x: last180days_BPD['Block_Location'].str.extract(location_re, x, regex=True))\n",
    "\n",
    "last180days_BPD['lat_long'] = last180days_BPD['Block_Location'].str.extract('(\\([\\d., -]*)')\n",
    "last180days_BPD['lat_long'] = last180days_BPD['lat_long'].str.replace('\\(', '')\n",
    "\n",
    "last180days_BPD.head()"
   ]
  },
  {
   "cell_type": "code",
   "execution_count": 15,
   "metadata": {},
   "outputs": [
    {
     "data": {
      "text/html": [
       "<div>\n",
       "<style>\n",
       "    .dataframe thead tr:only-child th {\n",
       "        text-align: right;\n",
       "    }\n",
       "\n",
       "    .dataframe thead th {\n",
       "        text-align: left;\n",
       "    }\n",
       "\n",
       "    .dataframe tbody tr th {\n",
       "        vertical-align: top;\n",
       "    }\n",
       "</style>\n",
       "<table border=\"1\" class=\"dataframe\">\n",
       "  <thead>\n",
       "    <tr style=\"text-align: right;\">\n",
       "      <th></th>\n",
       "      <th>There are no data to download.</th>\n",
       "    </tr>\n",
       "  </thead>\n",
       "  <tbody>\n",
       "  </tbody>\n",
       "</table>\n",
       "</div>"
      ],
      "text/plain": [
       "Empty DataFrame\n",
       "Columns: [There are no data to download.]\n",
       "Index: []"
      ]
     },
     "execution_count": 15,
     "metadata": {},
     "output_type": "execute_result"
    }
   ],
   "source": [
    "#UCPD_Arrests_Reported_by_otherPD = pd.read_csv('Arrests_Local_State_Police.csv')\n",
    "# empty?\n",
    "#UCPD_Arrests_Local.head()"
   ]
  },
  {
   "cell_type": "code",
   "execution_count": 8,
   "metadata": {
    "collapsed": true
   },
   "outputs": [],
   "source": [
    "UCPD_Arrests_Noncampus = pd.read_csv('Arrests_Noncampus.csv')\n"
   ]
  },
  {
   "cell_type": "code",
   "execution_count": 17,
   "metadata": {},
   "outputs": [
    {
     "data": {
      "text/html": [
       "<div>\n",
       "<style>\n",
       "    .dataframe thead tr:only-child th {\n",
       "        text-align: right;\n",
       "    }\n",
       "\n",
       "    .dataframe thead th {\n",
       "        text-align: left;\n",
       "    }\n",
       "\n",
       "    .dataframe tbody tr th {\n",
       "        vertical-align: top;\n",
       "    }\n",
       "</style>\n",
       "<table border=\"1\" class=\"dataframe\">\n",
       "  <thead>\n",
       "    <tr style=\"text-align: right;\">\n",
       "      <th></th>\n",
       "      <th>Survey year</th>\n",
       "      <th>Unitid</th>\n",
       "      <th>Institution name</th>\n",
       "      <th>Campus ID</th>\n",
       "      <th>Campus Name</th>\n",
       "      <th>Institution Size</th>\n",
       "      <th>Illegal weapons possession</th>\n",
       "      <th>Drug law violations</th>\n",
       "      <th>Liquor law violations</th>\n",
       "    </tr>\n",
       "  </thead>\n",
       "  <tbody>\n",
       "    <tr>\n",
       "      <th>0</th>\n",
       "      <td>2001</td>\n",
       "      <td>110635</td>\n",
       "      <td>University of California-Berkeley</td>\n",
       "      <td>1</td>\n",
       "      <td>Main Campus</td>\n",
       "      <td>32128</td>\n",
       "      <td>1</td>\n",
       "      <td>13</td>\n",
       "      <td>13</td>\n",
       "    </tr>\n",
       "    <tr>\n",
       "      <th>1</th>\n",
       "      <td>2002</td>\n",
       "      <td>110635</td>\n",
       "      <td>University of California-Berkeley</td>\n",
       "      <td>1</td>\n",
       "      <td>Main Campus</td>\n",
       "      <td>33145</td>\n",
       "      <td>4</td>\n",
       "      <td>4</td>\n",
       "      <td>2</td>\n",
       "    </tr>\n",
       "    <tr>\n",
       "      <th>2</th>\n",
       "      <td>2003</td>\n",
       "      <td>110635</td>\n",
       "      <td>University of California-Berkeley</td>\n",
       "      <td>1</td>\n",
       "      <td>Main Campus</td>\n",
       "      <td>33065</td>\n",
       "      <td>1</td>\n",
       "      <td>9</td>\n",
       "      <td>17</td>\n",
       "    </tr>\n",
       "    <tr>\n",
       "      <th>3</th>\n",
       "      <td>2004</td>\n",
       "      <td>110635</td>\n",
       "      <td>University of California-Berkeley</td>\n",
       "      <td>1</td>\n",
       "      <td>Main Campus</td>\n",
       "      <td>32803</td>\n",
       "      <td>1</td>\n",
       "      <td>17</td>\n",
       "      <td>10</td>\n",
       "    </tr>\n",
       "    <tr>\n",
       "      <th>4</th>\n",
       "      <td>2005</td>\n",
       "      <td>110635</td>\n",
       "      <td>University of California-Berkeley</td>\n",
       "      <td>1</td>\n",
       "      <td>Main Campus</td>\n",
       "      <td>33547</td>\n",
       "      <td>2</td>\n",
       "      <td>9</td>\n",
       "      <td>14</td>\n",
       "    </tr>\n",
       "  </tbody>\n",
       "</table>\n",
       "</div>"
      ],
      "text/plain": [
       "   Survey year  Unitid                   Institution name  Campus ID  \\\n",
       "0         2001  110635  University of California-Berkeley          1   \n",
       "1         2002  110635  University of California-Berkeley          1   \n",
       "2         2003  110635  University of California-Berkeley          1   \n",
       "3         2004  110635  University of California-Berkeley          1   \n",
       "4         2005  110635  University of California-Berkeley          1   \n",
       "\n",
       "   Campus Name  Institution Size  Illegal weapons possession  \\\n",
       "0  Main Campus             32128                           1   \n",
       "1  Main Campus             33145                           4   \n",
       "2  Main Campus             33065                           1   \n",
       "3  Main Campus             32803                           1   \n",
       "4  Main Campus             33547                           2   \n",
       "\n",
       "   Drug law violations  Liquor law violations  \n",
       "0                   13                     13  \n",
       "1                    4                      2  \n",
       "2                    9                     17  \n",
       "3                   17                     10  \n",
       "4                    9                     14  "
      ]
     },
     "execution_count": 17,
     "metadata": {},
     "output_type": "execute_result"
    }
   ],
   "source": [
    "UCPD_Arrest_Student_Housing = pd.read_csv('Arrests_On_campus_Student_Housing_Facilities.csv')\n",
    "UCPD_Arrest_Student_Housing.head()"
   ]
  },
  {
   "cell_type": "code",
   "execution_count": 18,
   "metadata": {},
   "outputs": [
    {
     "data": {
      "text/html": [
       "<div>\n",
       "<style>\n",
       "    .dataframe thead tr:only-child th {\n",
       "        text-align: right;\n",
       "    }\n",
       "\n",
       "    .dataframe thead th {\n",
       "        text-align: left;\n",
       "    }\n",
       "\n",
       "    .dataframe tbody tr th {\n",
       "        vertical-align: top;\n",
       "    }\n",
       "</style>\n",
       "<table border=\"1\" class=\"dataframe\">\n",
       "  <thead>\n",
       "    <tr style=\"text-align: right;\">\n",
       "      <th></th>\n",
       "      <th>Survey year</th>\n",
       "      <th>Unitid</th>\n",
       "      <th>Institution name</th>\n",
       "      <th>Campus ID</th>\n",
       "      <th>Campus Name</th>\n",
       "      <th>Institution Size</th>\n",
       "      <th>Illegal weapons possession</th>\n",
       "      <th>Drug law violations</th>\n",
       "      <th>Liquor law violations</th>\n",
       "    </tr>\n",
       "  </thead>\n",
       "  <tbody>\n",
       "    <tr>\n",
       "      <th>0</th>\n",
       "      <td>2001</td>\n",
       "      <td>110635</td>\n",
       "      <td>University of California-Berkeley</td>\n",
       "      <td>1</td>\n",
       "      <td>Main Campus</td>\n",
       "      <td>32128</td>\n",
       "      <td>6</td>\n",
       "      <td>134</td>\n",
       "      <td>218</td>\n",
       "    </tr>\n",
       "    <tr>\n",
       "      <th>1</th>\n",
       "      <td>2002</td>\n",
       "      <td>110635</td>\n",
       "      <td>University of California-Berkeley</td>\n",
       "      <td>1</td>\n",
       "      <td>Main Campus</td>\n",
       "      <td>33145</td>\n",
       "      <td>16</td>\n",
       "      <td>74</td>\n",
       "      <td>90</td>\n",
       "    </tr>\n",
       "    <tr>\n",
       "      <th>2</th>\n",
       "      <td>2003</td>\n",
       "      <td>110635</td>\n",
       "      <td>University of California-Berkeley</td>\n",
       "      <td>1</td>\n",
       "      <td>Main Campus</td>\n",
       "      <td>33065</td>\n",
       "      <td>10</td>\n",
       "      <td>110</td>\n",
       "      <td>43</td>\n",
       "    </tr>\n",
       "    <tr>\n",
       "      <th>3</th>\n",
       "      <td>2004</td>\n",
       "      <td>110635</td>\n",
       "      <td>University of California-Berkeley</td>\n",
       "      <td>1</td>\n",
       "      <td>Main Campus</td>\n",
       "      <td>32803</td>\n",
       "      <td>14</td>\n",
       "      <td>180</td>\n",
       "      <td>107</td>\n",
       "    </tr>\n",
       "    <tr>\n",
       "      <th>4</th>\n",
       "      <td>2005</td>\n",
       "      <td>110635</td>\n",
       "      <td>University of California-Berkeley</td>\n",
       "      <td>1</td>\n",
       "      <td>Main Campus</td>\n",
       "      <td>33547</td>\n",
       "      <td>13</td>\n",
       "      <td>111</td>\n",
       "      <td>148</td>\n",
       "    </tr>\n",
       "  </tbody>\n",
       "</table>\n",
       "</div>"
      ],
      "text/plain": [
       "   Survey year  Unitid                   Institution name  Campus ID  \\\n",
       "0         2001  110635  University of California-Berkeley          1   \n",
       "1         2002  110635  University of California-Berkeley          1   \n",
       "2         2003  110635  University of California-Berkeley          1   \n",
       "3         2004  110635  University of California-Berkeley          1   \n",
       "4         2005  110635  University of California-Berkeley          1   \n",
       "\n",
       "   Campus Name  Institution Size  Illegal weapons possession  \\\n",
       "0  Main Campus             32128                           6   \n",
       "1  Main Campus             33145                          16   \n",
       "2  Main Campus             33065                          10   \n",
       "3  Main Campus             32803                          14   \n",
       "4  Main Campus             33547                          13   \n",
       "\n",
       "   Drug law violations  Liquor law violations  \n",
       "0                  134                    218  \n",
       "1                   74                     90  \n",
       "2                  110                     43  \n",
       "3                  180                    107  \n",
       "4                  111                    148  "
      ]
     },
     "execution_count": 18,
     "metadata": {},
     "output_type": "execute_result"
    }
   ],
   "source": [
    "UCPD_Arrests_Oncampus = pd.read_csv('Arrests_On_campus.csv')\n",
    "UCPD_Arrests_Oncampus.head()"
   ]
  },
  {
   "cell_type": "code",
   "execution_count": 10,
   "metadata": {
    "collapsed": true
   },
   "outputs": [],
   "source": [
    "UCPD_Arrests_Public_Property = pd.read_csv('Arrests_Public_Property.csv')"
   ]
  },
  {
   "cell_type": "code",
   "execution_count": null,
   "metadata": {
    "collapsed": true
   },
   "outputs": [],
   "source": [
    "UCPD_CO_Noncampus = pd.read_csv('Criminal_Offenses_Noncampus.csv')"
   ]
  },
  {
   "cell_type": "code",
   "execution_count": null,
   "metadata": {
    "collapsed": true
   },
   "outputs": [],
   "source": [
    "UCPD_CO_Oncampus = pd.read_csv('Criminal_Offenses_On_campus.csv')"
   ]
  },
  {
   "cell_type": "code",
   "execution_count": 11,
   "metadata": {
    "collapsed": true
   },
   "outputs": [],
   "source": [
    "UCPD_CO_Oncampus_Student_Housing = pd.read_csv('Criminal_Offenses_On_campus_Student_Housing_Facilities.csv')"
   ]
  },
  {
   "cell_type": "code",
   "execution_count": 12,
   "metadata": {
    "collapsed": true
   },
   "outputs": [],
   "source": [
    "UCPD_CO_Public_Property = pd.read_csv('Criminal_Offenses_Public_Property.csv')"
   ]
  },
  {
   "cell_type": "code",
   "execution_count": 13,
   "metadata": {
    "collapsed": true
   },
   "outputs": [],
   "source": [
    "UCPD_CO_Reported_by_otherPD = pd.read_csv('Criminal_Offenses_Reported_by_Local_State_Police.csv')"
   ]
  },
  {
   "cell_type": "code",
   "execution_count": null,
   "metadata": {
    "collapsed": true
   },
   "outputs": [],
   "source": [
    "UCPD_Disciplinary_Actions_Noncampus = pd.read_csv('Disciplinary_Actions_Noncampus.csv')"
   ]
  },
  {
   "cell_type": "code",
   "execution_count": null,
   "metadata": {
    "collapsed": true
   },
   "outputs": [],
   "source": [
    "UCPD_Disciplinary_Actions_Oncampus = pd.read_csv('Disciplinary_Actions_On_campus.csv')"
   ]
  },
  {
   "cell_type": "code",
   "execution_count": null,
   "metadata": {
    "collapsed": true
   },
   "outputs": [],
   "source": [
    "UCPD_Disciplinary_Actions_Reported_by_otherPD = pd.read_csv('Disciplinary_Actions_Reported_by_Local_State_Police.csv')"
   ]
  },
  {
   "cell_type": "code",
   "execution_count": null,
   "metadata": {
    "collapsed": true
   },
   "outputs": [],
   "source": [
    "UCPD_Disciplinary_Actions_Student_Housing = pd.read_csv('Disciplinary_Actions_On_campus_Student_Housing_Facilities.csv')"
   ]
  },
  {
   "cell_type": "code",
   "execution_count": null,
   "metadata": {
    "collapsed": true
   },
   "outputs": [],
   "source": [
    "UCPD_Disciplinary_Actions_Public_Property = pd.read_csv('Disciplinary_Actions_Public_Property.csv')"
   ]
  },
  {
   "cell_type": "code",
   "execution_count": null,
   "metadata": {
    "collapsed": true
   },
   "outputs": [],
   "source": [
    "UCPD_HateCrimes_Noncampus = pd.read_csv('Hate_Crimes_Noncampus.csv')"
   ]
  },
  {
   "cell_type": "code",
   "execution_count": null,
   "metadata": {
    "collapsed": true
   },
   "outputs": [],
   "source": [
    "UCPD_HateCrimes_Oncampus = pd.read_csv('Hate_Crimes_On_campus.csv')"
   ]
  },
  {
   "cell_type": "code",
   "execution_count": null,
   "metadata": {
    "collapsed": true
   },
   "outputs": [],
   "source": [
    "UCPD_HateCrimes_Student_Housing = pd.read_csv('Hate_Crimes__On_campus_Student_Housing_Facilities.csv')"
   ]
  },
  {
   "cell_type": "code",
   "execution_count": null,
   "metadata": {
    "collapsed": true
   },
   "outputs": [],
   "source": [
    "UCPD_HateCrimes_Public_Property = pd.read_csv('Hate_Crimes_Public_Property.csv')"
   ]
  },
  {
   "cell_type": "code",
   "execution_count": null,
   "metadata": {
    "collapsed": true
   },
   "outputs": [],
   "source": [
    "UCPD_HateCrimes_Reported_by_otherPD = pd.read_csv('Hate_Crimes_Actions_Reported_by_Local_State_Police.csv')"
   ]
  },
  {
   "cell_type": "code",
   "execution_count": 27,
   "metadata": {},
   "outputs": [
    {
     "data": {
      "text/html": [
       "<div>\n",
       "<style>\n",
       "    .dataframe thead tr:only-child th {\n",
       "        text-align: right;\n",
       "    }\n",
       "\n",
       "    .dataframe thead th {\n",
       "        text-align: left;\n",
       "    }\n",
       "\n",
       "    .dataframe tbody tr th {\n",
       "        vertical-align: top;\n",
       "    }\n",
       "</style>\n",
       "<table border=\"1\" class=\"dataframe\">\n",
       "  <thead>\n",
       "    <tr style=\"text-align: right;\">\n",
       "      <th></th>\n",
       "      <th>Survey year</th>\n",
       "      <th>Unitid</th>\n",
       "      <th>Institution name</th>\n",
       "      <th>Campus ID</th>\n",
       "      <th>Campus Name</th>\n",
       "      <th>Institution Size</th>\n",
       "      <th>Domestic violence</th>\n",
       "      <th>Dating violence</th>\n",
       "      <th>Stalking</th>\n",
       "    </tr>\n",
       "  </thead>\n",
       "  <tbody>\n",
       "    <tr>\n",
       "      <th>0</th>\n",
       "      <td>2014</td>\n",
       "      <td>110635</td>\n",
       "      <td>University of California-Berkeley</td>\n",
       "      <td>1</td>\n",
       "      <td>Main Campus</td>\n",
       "      <td>37565</td>\n",
       "      <td>4</td>\n",
       "      <td>0</td>\n",
       "      <td>1</td>\n",
       "    </tr>\n",
       "    <tr>\n",
       "      <th>1</th>\n",
       "      <td>2015</td>\n",
       "      <td>110635</td>\n",
       "      <td>University of California-Berkeley</td>\n",
       "      <td>1</td>\n",
       "      <td>Main Campus</td>\n",
       "      <td>38189</td>\n",
       "      <td>7</td>\n",
       "      <td>1</td>\n",
       "      <td>0</td>\n",
       "    </tr>\n",
       "  </tbody>\n",
       "</table>\n",
       "</div>"
      ],
      "text/plain": [
       "   Survey year  Unitid                   Institution name  Campus ID  \\\n",
       "0         2014  110635  University of California-Berkeley          1   \n",
       "1         2015  110635  University of California-Berkeley          1   \n",
       "\n",
       "   Campus Name  Institution Size  Domestic violence  Dating violence  Stalking  \n",
       "0  Main Campus             37565                  4                0         1  \n",
       "1  Main Campus             38189                  7                1         0  "
      ]
     },
     "execution_count": 27,
     "metadata": {},
     "output_type": "execute_result"
    }
   ],
   "source": [
    "UCPD_VAWA_Noncampus = pd.read_csv('VAWA_Offenses_Noncampus.csv')\n",
    "UCPD_VAWA_Noncampus.head()"
   ]
  },
  {
   "cell_type": "code",
   "execution_count": 26,
   "metadata": {},
   "outputs": [
    {
     "data": {
      "text/html": [
       "<div>\n",
       "<style>\n",
       "    .dataframe thead tr:only-child th {\n",
       "        text-align: right;\n",
       "    }\n",
       "\n",
       "    .dataframe thead th {\n",
       "        text-align: left;\n",
       "    }\n",
       "\n",
       "    .dataframe tbody tr th {\n",
       "        vertical-align: top;\n",
       "    }\n",
       "</style>\n",
       "<table border=\"1\" class=\"dataframe\">\n",
       "  <thead>\n",
       "    <tr style=\"text-align: right;\">\n",
       "      <th></th>\n",
       "      <th>Survey year</th>\n",
       "      <th>Unitid</th>\n",
       "      <th>Institution name</th>\n",
       "      <th>Campus ID</th>\n",
       "      <th>Campus Name</th>\n",
       "      <th>Institution Size</th>\n",
       "      <th>Domestic violence</th>\n",
       "      <th>Dating violence</th>\n",
       "      <th>Stalking</th>\n",
       "    </tr>\n",
       "  </thead>\n",
       "  <tbody>\n",
       "    <tr>\n",
       "      <th>0</th>\n",
       "      <td>2014</td>\n",
       "      <td>110635</td>\n",
       "      <td>University of California-Berkeley</td>\n",
       "      <td>1</td>\n",
       "      <td>Main Campus</td>\n",
       "      <td>37565</td>\n",
       "      <td>1</td>\n",
       "      <td>6</td>\n",
       "      <td>22</td>\n",
       "    </tr>\n",
       "    <tr>\n",
       "      <th>1</th>\n",
       "      <td>2015</td>\n",
       "      <td>110635</td>\n",
       "      <td>University of California-Berkeley</td>\n",
       "      <td>1</td>\n",
       "      <td>Main Campus</td>\n",
       "      <td>38189</td>\n",
       "      <td>5</td>\n",
       "      <td>8</td>\n",
       "      <td>10</td>\n",
       "    </tr>\n",
       "  </tbody>\n",
       "</table>\n",
       "</div>"
      ],
      "text/plain": [
       "   Survey year  Unitid                   Institution name  Campus ID  \\\n",
       "0         2014  110635  University of California-Berkeley          1   \n",
       "1         2015  110635  University of California-Berkeley          1   \n",
       "\n",
       "   Campus Name  Institution Size  Domestic violence  Dating violence  Stalking  \n",
       "0  Main Campus             37565                  1                6        22  \n",
       "1  Main Campus             38189                  5                8        10  "
      ]
     },
     "execution_count": 26,
     "metadata": {},
     "output_type": "execute_result"
    }
   ],
   "source": [
    "UCPD_VAWA_Oncampus = pd.read_csv('VAWA_Offenses_On_campus.csv')\n",
    "UCPD_VAWA_Oncampus.head()"
   ]
  },
  {
   "cell_type": "code",
   "execution_count": null,
   "metadata": {
    "collapsed": true
   },
   "outputs": [],
   "source": [
    "UCPD_VAWA_Reported_by_otherPD = pd.read_csv('VAWA_Offenses_Reported_by_Local_State_Police.csv')"
   ]
  },
  {
   "cell_type": "code",
   "execution_count": null,
   "metadata": {
    "collapsed": true
   },
   "outputs": [],
   "source": [
    "UCPD_VAWA_Student_Housing = pd.read_csv('VAWA_Offenses_On_campus_Student_Housing_Facilities.csv')"
   ]
  },
  {
   "cell_type": "code",
   "execution_count": 24,
   "metadata": {},
   "outputs": [
    {
     "data": {
      "text/html": [
       "<div>\n",
       "<style>\n",
       "    .dataframe thead tr:only-child th {\n",
       "        text-align: right;\n",
       "    }\n",
       "\n",
       "    .dataframe thead th {\n",
       "        text-align: left;\n",
       "    }\n",
       "\n",
       "    .dataframe tbody tr th {\n",
       "        vertical-align: top;\n",
       "    }\n",
       "</style>\n",
       "<table border=\"1\" class=\"dataframe\">\n",
       "  <thead>\n",
       "    <tr style=\"text-align: right;\">\n",
       "      <th></th>\n",
       "      <th>Survey year</th>\n",
       "      <th>Unitid</th>\n",
       "      <th>Institution name</th>\n",
       "      <th>Campus ID</th>\n",
       "      <th>Campus Name</th>\n",
       "      <th>Institution Size</th>\n",
       "      <th>Domestic violence</th>\n",
       "      <th>Dating violence</th>\n",
       "      <th>Stalking</th>\n",
       "    </tr>\n",
       "  </thead>\n",
       "  <tbody>\n",
       "    <tr>\n",
       "      <th>0</th>\n",
       "      <td>2014</td>\n",
       "      <td>110635</td>\n",
       "      <td>University of California-Berkeley</td>\n",
       "      <td>1</td>\n",
       "      <td>Main Campus</td>\n",
       "      <td>37565</td>\n",
       "      <td>2</td>\n",
       "      <td>1</td>\n",
       "      <td>1</td>\n",
       "    </tr>\n",
       "    <tr>\n",
       "      <th>1</th>\n",
       "      <td>2015</td>\n",
       "      <td>110635</td>\n",
       "      <td>University of California-Berkeley</td>\n",
       "      <td>1</td>\n",
       "      <td>Main Campus</td>\n",
       "      <td>38189</td>\n",
       "      <td>1</td>\n",
       "      <td>1</td>\n",
       "      <td>0</td>\n",
       "    </tr>\n",
       "  </tbody>\n",
       "</table>\n",
       "</div>"
      ],
      "text/plain": [
       "   Survey year  Unitid                   Institution name  Campus ID  \\\n",
       "0         2014  110635  University of California-Berkeley          1   \n",
       "1         2015  110635  University of California-Berkeley          1   \n",
       "\n",
       "   Campus Name  Institution Size  Domestic violence  Dating violence  Stalking  \n",
       "0  Main Campus             37565                  2                1         1  \n",
       "1  Main Campus             38189                  1                1         0  "
      ]
     },
     "execution_count": 24,
     "metadata": {},
     "output_type": "execute_result"
    }
   ],
   "source": [
    "UCPD_VAWA_Public_Property = pd.read_csv('VAWA_Offenses_Public_Property.csv')\n",
    "UCPD_VAWA_Public_Property"
   ]
  },
  {
   "cell_type": "code",
   "execution_count": 25,
   "metadata": {},
   "outputs": [
    {
     "ename": "TypeError",
     "evalue": "merge() missing 1 required positional argument: 'right'",
     "output_type": "error",
     "traceback": [
      "\u001b[1;31m---------------------------------------------------------------------------\u001b[0m",
      "\u001b[1;31mTypeError\u001b[0m                                 Traceback (most recent call last)",
      "\u001b[1;32m<ipython-input-25-afe2fd70fc89>\u001b[0m in \u001b[0;36m<module>\u001b[1;34m()\u001b[0m\n\u001b[1;32m----> 1\u001b[1;33m \u001b[0mall_UCPD\u001b[0m \u001b[1;33m=\u001b[0m \u001b[0mpd\u001b[0m\u001b[1;33m.\u001b[0m\u001b[0mmerge\u001b[0m\u001b[1;33m(\u001b[0m\u001b[1;33m[\u001b[0m\u001b[1;34m'UCPD_Arrests_Noncampus'\u001b[0m\u001b[1;33m,\u001b[0m \u001b[1;34m'UCPD_Arrest_Student_Housing'\u001b[0m\u001b[1;33m,\u001b[0m \u001b[1;34m'UCPD_Arrests_Oncampus'\u001b[0m\u001b[1;33m,\u001b[0m \u001b[1;34m'UCPD_Arrests_Public_Property'\u001b[0m\u001b[1;33m,\u001b[0m \u001b[1;34m'UCPD_CO_Noncampus'\u001b[0m\u001b[1;33m,\u001b[0m \u001b[1;34m'UCPD_CO_Oncampus'\u001b[0m\u001b[1;33m,\u001b[0m \u001b[1;34m'UCPD_CO_Oncampus_Student_Housing'\u001b[0m\u001b[1;33m,\u001b[0m \u001b[1;34m'UCPD_CO_Public_Property'\u001b[0m\u001b[1;33m,\u001b[0m \u001b[1;34m'UCPD_CO_Reported_by_otherPD'\u001b[0m\u001b[1;33m,\u001b[0m \u001b[1;34m'UCPD_Disciplinary_Actions_Noncampus'\u001b[0m\u001b[1;33m,\u001b[0m \u001b[1;34m'UCPD_Disciplinary_Actions_Oncampus'\u001b[0m\u001b[1;33m,\u001b[0m \u001b[1;34m'UCPD_Disciplinary_Actions_Reported_by_otherPD'\u001b[0m\u001b[1;33m,\u001b[0m \u001b[1;34m'UCPD_Disciplinary_Actions_Student_Housing'\u001b[0m\u001b[1;33m,\u001b[0m \u001b[1;34m'UCPD_Disciplinary_Actions_Public_Property'\u001b[0m\u001b[1;33m,\u001b[0m \u001b[1;34m'UCPD_HateCrimes_Noncampus'\u001b[0m\u001b[1;33m,\u001b[0m \u001b[1;34m'UCPD_HateCrimes_Oncampus'\u001b[0m\u001b[1;33m,\u001b[0m \u001b[1;34m'UCPD_HateCrimes_Student_Housing'\u001b[0m\u001b[1;33m,\u001b[0m \u001b[1;34m'UCPD_HateCrimes_Public_Property'\u001b[0m\u001b[1;33m,\u001b[0m \u001b[1;34m'UCPD_HateCrimes_Reported_by_otherPD'\u001b[0m\u001b[1;33m,\u001b[0m \u001b[1;34m'UCPD_VAWA_Noncampus'\u001b[0m\u001b[1;33m,\u001b[0m \u001b[1;34m'UCPD_VAWA_Oncampus'\u001b[0m\u001b[1;33m,\u001b[0m \u001b[1;34m'UCPD_VAWA_Reported_by_otherPD'\u001b[0m\u001b[1;33m,\u001b[0m \u001b[1;34m'UCPD_VAWA_Student_Housing'\u001b[0m\u001b[1;33m,\u001b[0m \u001b[1;34m'UCPD_VAWA_Public_Property'\u001b[0m\u001b[1;33m]\u001b[0m\u001b[1;33m)\u001b[0m\u001b[1;33m\u001b[0m\u001b[0m\n\u001b[0m",
      "\u001b[1;31mTypeError\u001b[0m: merge() missing 1 required positional argument: 'right'"
     ]
    }
   ],
   "source": [
    "all_UCPD = pd.concat([UCPD_Arrests_Noncampus, UCPD_Arrest_Student_Housing, UCPD_Arrests_Oncampus, UCPD_Arrests_Public_Property, UCPD_CO_Noncampus, UCPD_CO_Oncampus, UCPD_CO_Oncampus_Student_Housing, UCPD_CO_Public_Property, UCPD_CO_Reported_by_otherPD, UCPD_Disciplinary_Actions_Noncampus, UCPD_Disciplinary_Actions_Oncampus, UCPD_Disciplinary_Actions_Reported_by_otherPD, UCPD_Disciplinary_Actions_Student_Housing, UCPD_Disciplinary_Actions_Public_Property, UCPD_HateCrimes_Noncampus, UCPD_HateCrimes_Oncampus, UCPD_HateCrimes_Student_Housing, UCPD_HateCrimes_Public_Property, UCPD_HateCrimes_Reported_by_otherPD, UCPD_VAWA_Noncampus, UCPD_VAWA_Oncampus, UCPD_VAWA_Reported_by_otherPD, UCPD_VAWA_Student_Housing', 'UCPD_VAWA_Public_Property'])\n"
   ]
  }
 ],
 "metadata": {
  "kernelspec": {
   "display_name": "Python 3",
   "language": "python",
   "name": "python3"
  },
  "language_info": {
   "codemirror_mode": {
    "name": "ipython",
    "version": 3
   },
   "file_extension": ".py",
   "mimetype": "text/x-python",
   "name": "python",
   "nbconvert_exporter": "python",
   "pygments_lexer": "ipython3",
   "version": "3.6.1"
  }
 },
 "nbformat": 4,
 "nbformat_minor": 2
}
